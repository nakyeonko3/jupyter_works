{
 "cells": [
  {
   "cell_type": "code",
   "execution_count": 6,
   "metadata": {},
   "outputs": [
    {
     "name": "stdout",
     "output_type": "stream",
     "text": [
      "R= [-1.  2.] P= [0.5 1. ] C= []\n"
     ]
    }
   ],
   "source": [
    "# (1)\n",
    "# -*- coding: utf-8 -*-\n",
    "import numpy as np\n",
    "from scipy import signal\n",
    "b=[1] \n",
    "a=[1, -1.5, 0.5]\n",
    "R,P,C = signal.residuez(b,a) \n",
    "print(\"R=\",R, \"P=\",P,\"C=\",C)"
   ]
  },
  {
   "cell_type": "code",
   "execution_count": 7,
   "metadata": {},
   "outputs": [
    {
     "data": {
      "text/plain": [
       "array([], dtype=float64)"
      ]
     },
     "execution_count": 7,
     "metadata": {},
     "output_type": "execute_result"
    }
   ],
   "source": [
    "C"
   ]
  },
  {
   "cell_type": "code",
   "execution_count": null,
   "metadata": {},
   "outputs": [],
   "source": []
  }
 ],
 "metadata": {
  "kernelspec": {
   "display_name": "Python 3",
   "language": "python",
   "name": "python3"
  },
  "language_info": {
   "codemirror_mode": {
    "name": "ipython",
    "version": 3
   },
   "file_extension": ".py",
   "mimetype": "text/x-python",
   "name": "python",
   "nbconvert_exporter": "python",
   "pygments_lexer": "ipython3",
   "version": "3.10.7"
  },
  "orig_nbformat": 4,
  "vscode": {
   "interpreter": {
    "hash": "49d29a75d56f19153895482c916bee8ffec7f5ee54935d3c98948d32ac24017e"
   }
  }
 },
 "nbformat": 4,
 "nbformat_minor": 2
}
